{
 "cells": [
  {
   "cell_type": "code",
   "execution_count": 19,
   "id": "d45d6dc7-6c52-4156-881a-46584a9d2af4",
   "metadata": {},
   "outputs": [],
   "source": [
    "import music21 as mu\n",
    "import pandas as pd\n",
    "import numpy as np\n",
    "import re\n",
    "\n",
    "def flength(time):\n",
    "    threasholds = [0.099, 0.18, 0.30, 0.47, 0.60, 0.81, 1.00, 1.15, 1.30, 1.60, 1.90]\n",
    "    lengths     = [0.125, 0.25, 0.50, 0.75, 1.00, 1.25, 1.50, 1.75, 2.00, 2.25, 2.50]\n",
    "    for i in range(len(threasholds)):\n",
    "        if time < threasholds[i]:\n",
    "            return lengths[i]\n",
    "    return 4 # whole\n",
    "\n",
    "def fnote(name, t):\n",
    "    return mu.note.Note(name=name, quarterLength=flength(t))\n",
    "\n",
    "def match(notes, fingers):\n",
    "    match = 0\n",
    "    for i in range(len(notes)):\n",
    "        c = notes.iloc[i]\n",
    "        if fingers.iat[i] == c.finger:\n",
    "            match += 1\n",
    "    return match\n",
    "\n",
    "def drawNotes(stream, notes, fingers):\n",
    "    prev = notes.iloc[0]\n",
    "    time = 0.0\n",
    "    for i in range(len(notes)):\n",
    "        c = notes.iloc[i]\n",
    "        if(time < c.t0 and c.t0 - time > 1/32):\n",
    "            r = mu.note.Rest(quarterLength=flength(c.t0 - time))\n",
    "            stream.append(r)\n",
    "        n = fnote(c.note, c.t1 - c.t0)\n",
    "        n.articulations.append(mu.articulations.Fingering(fingers.iat[i]))\n",
    "        if c.finger != fingers.iat[i]:\n",
    "            n.style.color = \"red\"\n",
    "            n.addLyric(c._finger)\n",
    "        stream.append(n)\n",
    "        prev = c\n",
    "        time = c.t1\n",
    "\n",
    "def drawMatches(stream, notes, fingerZipped):\n",
    "    time = 0.0\n",
    "    for i, fingers in enumerate(fingerZipped):\n",
    "        c = notes.iloc[i]\n",
    "        if(time < c.t0 and c.t0 - time > 1/32):\n",
    "            r = mu.note.Rest(quarterLength=flength(c.t0 - time))\n",
    "            stream.append(r)\n",
    "        n = fnote(c.note, c.t1 - c.t0)\n",
    "        differ = (len(set(fingers)) - 1) / (len(fingers) - 1)\n",
    "        color = int((1 - pow(1 - differ, 2)) * 255)\n",
    "        red = \"{:02x}\".format(color)\n",
    "        n.style.color = f\"#{red}0000\"\n",
    "        stream.append(n)\n",
    "        time = c.t1\n",
    "        \n",
    "def read_PIG(path):\n",
    "    names = [\"id\", \"t0\", \"t1\", \"note\", \"_n\", \"_v\", \"ch\", \"_finger\"]\n",
    "    table = pd.read_table(path, names = names, skiprows = 1)\n",
    "    table[\"finger\"] = table[\"_finger\"].apply(lambda s: abs(int(str(s).split(\"_\")[0])))\n",
    "    return table\n",
    "\n",
    "def read_fingering(path):\n",
    "    with open(path) as f:\n",
    "        st = f.read()\n",
    "    return pd.Series([int(s) for s in re.split(\"\", st) if s != \"\" and s != \"_\" and s != \"\\n\"])"
   ]
  },
  {
   "cell_type": "code",
   "execution_count": 2,
   "id": "4b2f2b82-8936-493d-87cf-897099c7cda4",
   "metadata": {},
   "outputs": [],
   "source": [
    "table = read_PIG(\"./tmp/PianoFingeringDataset/FingeringFiles/001-1_fingering.txt\")\n",
    "table2 = read_PIG(\"./tmp/PianoFingeringDataset/FingeringFiles/001-2_fingering.txt\")\n",
    "table5 = read_PIG(\"./tmp/PianoFingeringDataset/FingeringFiles/001-5_fingering.txt\")\n",
    "table8 = read_PIG(\"./tmp/PianoFingeringDataset/FingeringFiles/001-8_fingering.txt\")\n",
    "\n",
    "czernyFingeringr = read_fingering('./data/bach_inventionen_01_Czerny_fingering_R.txt')\n",
    "czernyFingeringl = read_fingering('./data/bach_inventionen_01_Czerny_fingering_L.txt')"
   ]
  },
  {
   "cell_type": "code",
   "execution_count": null,
   "id": "4a78edcb-574d-4c09-8cc0-463707819f3f",
   "metadata": {},
   "outputs": [],
   "source": [
    "rights = table[table.ch == 0]\n",
    "pr = mu.stream.Part()\n",
    "drawNotes(pr, rights, czernyFingeringr)\n",
    "\n",
    "lefts = table[table.ch == 1]\n",
    "pl = mu.stream.Part()\n",
    "drawNotes(pl, lefts, czernyFingeringl)\n",
    "\n",
    "score = mu.stream.Score()\n",
    "score.insert(0, pr)\n",
    "score.insert(0, pl)\n",
    "\n",
    "#score.write('musicxml', './mxl/001-czerny_fingering_vs_1_rl.xml')\n",
    "m = match(rights, czernyFingeringr) + match(lefts, czernyFingeringl)\n",
    "print(f\"{m} / {len(rights) + len(lefts)}\")"
   ]
  },
  {
   "cell_type": "code",
   "execution_count": null,
   "id": "241716b7-abac-4fb1-93ac-90dfd9ce7e54",
   "metadata": {},
   "outputs": [],
   "source": [
    "#fingersr = zip(table[table.ch == 0].finger, table2[table.ch == 0].finger, table5[table.ch == 0].finger, table8[table.ch == 0].finger)\n",
    "#fingersl = zip(table[table.ch == 1].finger, table2[table.ch == 1].finger, table5[table.ch == 1].finger, table8[table.ch == 1].finger)\n",
    "\n",
    "rights = table[table.ch == 0]\n",
    "pr = mu.stream.Part()\n",
    "drawMatches(pr, rights, zip(table[table.ch == 0].finger, czernyFingeringr))\n",
    "\n",
    "score = mu.stream.Score()\n",
    "score.insert(0, pr)\n",
    "\n",
    "score.write('musicxml', './mxl/PIG_differs2.xml')\n",
    "#m = match(rights, czernyFingeringr) + match(lefts, czernyFingeringl)\n",
    "#print(f\"{m} / {len(rights) + len(lefts)}\")"
   ]
  },
  {
   "cell_type": "code",
   "execution_count": 46,
   "id": "6b6f680b-a8d8-43fe-a056-a1e11af1e072",
   "metadata": {},
   "outputs": [
    {
     "name": "stdout",
     "output_type": "stream",
     "text": [
      "| 1 | 1.000 | 0.748 | 0.682 | 0.719 |\n",
      "| 2 | 0.748 | 1.000 | 0.768 | 0.699 |\n",
      "| 3 | 0.682 | 0.768 | 1.000 | 0.699 |\n",
      "| 4 | 0.719 | 0.699 | 0.699 | 1.000 |\n"
     ]
    }
   ],
   "source": [
    "pig_fingers = [table.finger, table2.finger, table5.finger, table8.finger]\n",
    "for i in range(4):\n",
    "    str = f\"| {i+1} |\"\n",
    "    for j in range(4):\n",
    "        fingersr = zip(pig_fingers[i], pig_fingers[j])\n",
    "        cnt = 0\n",
    "        for _, fs in enumerate(fingersr):\n",
    "            if len(set(fs)) < len(fs):\n",
    "                cnt += 1\n",
    "        rate = \"{:.3f}\".format(cnt / 469)\n",
    "        str += f\" {rate} |\"\n",
    "    print(str)"
   ]
  },
  {
   "cell_type": "code",
   "execution_count": null,
   "id": "7f8f9497-6cb8-4de6-abb9-2bc3f4585b31",
   "metadata": {},
   "outputs": [],
   "source": []
  }
 ],
 "metadata": {
  "kernelspec": {
   "display_name": "Python 3",
   "language": "python",
   "name": "python3"
  },
  "language_info": {
   "codemirror_mode": {
    "name": "ipython",
    "version": 3
   },
   "file_extension": ".py",
   "mimetype": "text/x-python",
   "name": "python",
   "nbconvert_exporter": "python",
   "pygments_lexer": "ipython3",
   "version": "3.7.10"
  }
 },
 "nbformat": 4,
 "nbformat_minor": 5
}
