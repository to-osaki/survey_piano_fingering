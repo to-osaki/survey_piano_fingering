{
 "cells": [
  {
   "cell_type": "code",
   "execution_count": null,
   "id": "d45d6dc7-6c52-4156-881a-46584a9d2af4",
   "metadata": {},
   "outputs": [],
   "source": [
    "import music21 as mu\n",
    "import pandas as pd\n",
    "import numpy as np\n",
    "from data_helper import *\n",
    "\n",
    "def flength(time):\n",
    "    \"\"\"\n",
    "    打鍵時間をquarterLengthに変換\n",
    "    \"\"\"\n",
    "    threasholds = [0.099, 0.18, 0.30, 0.47, 0.60, 0.81, 1.00, 1.15, 1.30, 1.60, 1.90]\n",
    "    lengths     = [0.125, 0.25, 0.50, 0.75, 1.00, 1.25, 1.50, 1.75, 2.00, 2.25, 2.50]\n",
    "    for i in range(len(threasholds)):\n",
    "        if time < threasholds[i]:\n",
    "            return lengths[i]\n",
    "    return 4 # whole\n",
    "\n",
    "def fnote(name, t):\n",
    "    \"\"\"\n",
    "    音名と打鍵時間からNoteを生成\n",
    "    \"\"\"\n",
    "    return mu.note.Note(name=name, quarterLength=flength(t))\n",
    "\n",
    "def count_match(notes, fingers):\n",
    "    \"\"\"\n",
    "    PIGデータと運指配列との一致数を返す\n",
    "    \"\"\"\n",
    "    match = 0\n",
    "    for i in range(len(notes)):\n",
    "        if notes.iloc[i].finger == fingers.iat[i]:\n",
    "            match += 1\n",
    "    return match\n",
    "\n",
    "def appendPIGNotes(stream, pig_notes, fingers):\n",
    "    time = 0.0\n",
    "    for i in range(len(pig_notes)):\n",
    "        c = pig_notes.iloc[i]\n",
    "        if(time < c.t0 and c.t0 - time > 1/32):\n",
    "            r = mu.note.Rest(quarterLength=flength(c.t0 - time))\n",
    "            stream.append(r)\n",
    "        n = fnote(c.note, c.t1 - c.t0)\n",
    "        n.articulations.append(mu.articulations.Fingering(fingers.iat[i]))\n",
    "        if c.finger != fingers.iat[i]:\n",
    "            n.style.color = \"red\"\n",
    "            n.addLyric(c._finger)\n",
    "        stream.append(n)\n",
    "        time = c.t1\n",
    "\n",
    "def drawMatches(stream, notes, fingerZipped):\n",
    "    time = 0.0\n",
    "    for i, fingers in enumerate(fingerZipped):\n",
    "        c = notes.iloc[i]\n",
    "        if(time < c.t0 and c.t0 - time > 1/32):\n",
    "            r = mu.note.Rest(quarterLength=flength(c.t0 - time))\n",
    "            stream.append(r)\n",
    "        n = fnote(c.note, c.t1 - c.t0)\n",
    "        differ = (len(set(fingers)) - 1) / (len(fingers) - 1)\n",
    "        color = int((1 - pow(1 - differ, 2)) * 255)\n",
    "        red = \"{:02x}\".format(color)\n",
    "        n.style.color = f\"#{red}0000\"\n",
    "        stream.append(n)\n",
    "        time = c.t1"
   ]
  },
  {
   "cell_type": "code",
   "execution_count": null,
   "id": "5be5542a-58aa-4f7a-a603-186c29ca3532",
   "metadata": {},
   "outputs": [],
   "source": [
    "convert_fingering_to_PIG(\n",
    "    './data/001-my_fingering.csv',\n",
    "    './data/001-my_fingering_R.txt', \n",
    "    './data/001-my_fingering_L.txt', \n",
    "    \"./tmp/PianoFingeringDataset/FingeringFiles/001-1_fingering.txt\")\n"
   ]
  },
  {
   "cell_type": "code",
   "execution_count": null,
   "id": "4b2f2b82-8936-493d-87cf-897099c7cda4",
   "metadata": {
    "tags": []
   },
   "outputs": [],
   "source": [
    "table = read_PIG(\"./tmp/PianoFingeringDataset/FingeringFiles/001-1_fingering.txt\")\n",
    "table2 = read_PIG(\"./tmp/PianoFingeringDataset/FingeringFiles/001-2_fingering.txt\")\n",
    "table5 = read_PIG(\"./tmp/PianoFingeringDataset/FingeringFiles/001-5_fingering.txt\")\n",
    "table8 = read_PIG(\"./tmp/PianoFingeringDataset/FingeringFiles/001-8_fingering.txt\")\n",
    "\n",
    "czernyR = read_fingering('./data/001-Czerny_fingering_R.txt')\n",
    "czernyL = read_fingering('./data/001-Czerny_fingering_L.txt')"
   ]
  },
  {
   "cell_type": "code",
   "execution_count": null,
   "id": "4a78edcb-574d-4c09-8cc0-463707819f3f",
   "metadata": {},
   "outputs": [],
   "source": [
    "rights = table[table.ch == 0]\n",
    "pr = mu.stream.Part()\n",
    "appendPIGNotes(pr, rights, czernyR)\n",
    "\n",
    "lefts = table[table.ch == 1]\n",
    "pl = mu.stream.Part()\n",
    "appendPIGNotes(pl, lefts, czernyL)\n",
    "\n",
    "score = mu.stream.Score()\n",
    "score.insert(0, pr)\n",
    "score.insert(0, pl)\n",
    "\n",
    "score.write('musicxml', './mxl/bach_invention1.xml')\n",
    "#m = count_match(rights, czernyR) + count_match(lefts, czernyL)\n",
    "#print(f\"{m} / {len(rights) + len(lefts)}\")"
   ]
  },
  {
   "cell_type": "code",
   "execution_count": null,
   "id": "241716b7-abac-4fb1-93ac-90dfd9ce7e54",
   "metadata": {},
   "outputs": [],
   "source": [
    "#fingersr = zip(table[table.ch == 0].finger, table2[table.ch == 0].finger, table5[table.ch == 0].finger, table8[table.ch == 0].finger)\n",
    "#fingersl = zip(table[table.ch == 1].finger, table2[table.ch == 1].finger, table5[table.ch == 1].finger, table8[table.ch == 1].finger)\n",
    "\n",
    "rights = table[table.ch == 0]\n",
    "pr = mu.stream.Part()\n",
    "drawMatches(pr, rights, zip(table[table.ch == 0].finger, czernyR))\n",
    "\n",
    "score = mu.stream.Score()\n",
    "score.insert(0, pr)\n",
    "# score.write('musicxml', './mxl/PIG_differs2.xml')\n",
    "\n",
    "#m = match(rights, czernyR) + match(lefts, czernyL)\n",
    "#print(f\"{m} / {len(rights) + len(lefts)}\")"
   ]
  },
  {
   "cell_type": "code",
   "execution_count": null,
   "id": "6b6f680b-a8d8-43fe-a056-a1e11af1e072",
   "metadata": {
    "tags": []
   },
   "outputs": [],
   "source": [
    "def make_match_matrix(pig_array):\n",
    "    df = pd.DataFrame(columns = range(len(pig_array)))\n",
    "    pig_fingers = [table.finger for table in pig_array]\n",
    "    data_length = len(pig_fingers[0])\n",
    "    for i in range(len(pig_fingers)):\n",
    "        row = {}\n",
    "        for j in range(len(pig_fingers)):\n",
    "            fingersr = zip(pig_fingers[i], pig_fingers[j]) # make pair\n",
    "            cnt = 0\n",
    "            for _, fs in enumerate(fingersr):\n",
    "                if len(set(fs)) < len(fs):\n",
    "                    cnt += 1\n",
    "            row[j] = cnt / data_length\n",
    "            #rate = \"{:.3f}\".format(cnt / data_length)\n",
    "        df = df.append(row, ignore_index = True)\n",
    "    print(df)\n",
    "\n",
    "pig = [table, table2, table5, table8]\n",
    "make_match_matrix(pig)"
   ]
  },
  {
   "cell_type": "code",
   "execution_count": null,
   "id": "a539fcc3-eed1-4aaa-8018-3e79386f5d65",
   "metadata": {},
   "outputs": [],
   "source": []
  }
 ],
 "metadata": {
  "kernelspec": {
   "display_name": "Python 3",
   "language": "python",
   "name": "python3"
  },
  "language_info": {
   "codemirror_mode": {
    "name": "ipython",
    "version": 3
   },
   "file_extension": ".py",
   "mimetype": "text/x-python",
   "name": "python",
   "nbconvert_exporter": "python",
   "pygments_lexer": "ipython3",
   "version": "3.7.10"
  }
 },
 "nbformat": 4,
 "nbformat_minor": 5
}
