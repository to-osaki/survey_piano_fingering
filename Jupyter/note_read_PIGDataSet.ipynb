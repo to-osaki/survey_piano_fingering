{
 "cells": [
  {
   "cell_type": "code",
   "execution_count": null,
   "id": "e451f807-4c55-4db5-978c-2851490632cc",
   "metadata": {
    "tags": []
   },
   "outputs": [],
   "source": [
    "%load_ext autoreload\n",
    "%autoreload 2\n",
    "\n",
    "import music21 as mu\n",
    "import pandas as pd\n",
    "import numpy as np\n",
    "import itertools\n",
    "import matplotlib.pyplot as plt\n",
    "import seaborn as sns\n",
    "from data_helper import *\n",
    "from music_helper import *"
   ]
  },
  {
   "cell_type": "code",
   "execution_count": null,
   "id": "d16dd7eb-4d5e-41a6-939c-9be203d3c473",
   "metadata": {
    "tags": []
   },
   "outputs": [],
   "source": [
    "pathes = [\n",
    "    \"./tmp/PianoFingeringDataset/FingeringFiles/{0:03d}-1_fingering.txt\",\n",
    "    \"./tmp/PianoFingeringDataset/FingeringFiles/{0:03d}-2_fingering.txt\",\n",
    "    \"./tmp/PianoFingeringDataset/FingeringFiles/{0:03d}-5_fingering.txt\",\n",
    "    \"./tmp/PianoFingeringDataset/FingeringFiles/{0:03d}-8_fingering.txt\",\n",
    "    './tmp/Result_FHMM1/{0:03d}-1_fingering.txt',\n",
    "    './tmp/Result_FHMM2/{0:03d}-1_fingering.txt',\n",
    "    './tmp/Result_FHMM3/{0:03d}-1_fingering.txt'\n",
    "]\n",
    "titles = [\n",
    "    \"PIG_1\",\"PIG_2\",\"PIG_5\",\"PIG_8\",\n",
    "    \"FHMM1\",\"FHMM2\",\"FHMM3\",\n",
    "]"
   ]
  },
  {
   "cell_type": "code",
   "execution_count": null,
   "id": "32b9d068-6981-428c-98f2-d7ae172fc570",
   "metadata": {
    "tags": []
   },
   "outputs": [],
   "source": [
    "# Bachセット10曲分\n",
    "tables = {}\n",
    "for i in range(10):\n",
    "    tables[i] = [read_PIG(path.format(i + 1)) for path in pathes]\n",
    "    \n",
    "df = pd.DataFrame()\n",
    "for p in range(len(pathes)):\n",
    "    sum = np.zeros(5)\n",
    "    for m in range(len(tables)):\n",
    "        table = tables[m][p]\n",
    "        sum += table[table.ch == 0].groupby('finger').finger.count()\n",
    "    df = df.append(sum)\n",
    "\n",
    "df.index = titles\n",
    "sns.heatmap(df, annot=True, cmap=\"viridis\")"
   ]
  },
  {
   "cell_type": "code",
   "execution_count": null,
   "id": "0ac30864-a9af-4b0f-8e50-87af253c2a90",
   "metadata": {
    "tags": []
   },
   "outputs": [],
   "source": [
    "costs = np.zeros(shape = (len(pathes), 10))\n",
    "for p in range(len(pathes)):\n",
    "    sum = np.zeros(5)\n",
    "    for m in range(len(tables)):\n",
    "        table = tables[m][p]\n",
    "        notes = table[table.ch == 0]\n",
    "        rest = False\n",
    "        for pi in range(1, len(notes)):\n",
    "            n_ = notes.iloc[pi - 1]\n",
    "            n = notes.iloc[pi]\n",
    "            pd_ = n.pos - n_.pos\n",
    "            fi = n.fingers[-1] - 1\n",
    "            fi_ = n_.fingers[-1] - 1\n",
    "            fd_ = fi - fi_\n",
    "            td_ = n.t0 - n_.t1\n",
    "            if td_ >= 1 / 32: # 休符を挟まない\n",
    "                rest = True\n",
    "                continue\n",
    "            if not rest:\n",
    "                costs[p, m] += np.sqrt(abs(pd_ - fd_))\n",
    "            rest = False"
   ]
  },
  {
   "cell_type": "code",
   "execution_count": null,
   "id": "7a2c63cf-c638-467a-aad5-ee4e4a47c8e1",
   "metadata": {},
   "outputs": [],
   "source": [
    "dfa = pd.DataFrame(costs, index = titles, columns = range(1, 11))\n",
    "sns.heatmap(dfa)"
   ]
  },
  {
   "cell_type": "markdown",
   "id": "573b5e78-a508-4bc3-a15f-d1bce1dd75ef",
   "metadata": {},
   "source": [
    "### データ生成"
   ]
  },
  {
   "cell_type": "code",
   "execution_count": null,
   "id": "c2207932-77b1-4565-99fb-f7a084a00062",
   "metadata": {
    "tags": []
   },
   "outputs": [],
   "source": [
    "import os\n",
    "\n",
    "dirname = \"./tmp/PianoFingeringDataset/FingeringFiles\"\n",
    "names = [ path for path in os.listdir(dirname) if \".txt\" in path ]\n",
    "pigs = [ read_PIG(os.path.join(dirname, name)) for name in names ]"
   ]
  },
  {
   "cell_type": "code",
   "execution_count": null,
   "id": "3a1fe8e6-6049-41e1-863f-a191239f42eb",
   "metadata": {
    "tags": []
   },
   "outputs": [],
   "source": [
    "columns = [\"寄せ\", \"拡げ\", \"潜り\", \"超え\", \"その他\"]\n",
    "tables = pigs\n",
    "actions = np.zeros(shape = (len(tables), len(columns)))\n",
    "\n",
    "widthX = 15\n",
    "nCnt = 3*(2*widthX+1)\n",
    "\n",
    "def getDiff(m_, m):\n",
    "    o = np.array(key_pos2(m)) - np.array(key_pos2(m_))\n",
    "    return int(3*(np.clip(o[0], -widthX, widthX) + widthX) + (o[1] + 1))\n",
    "\n",
    "trSilent = np.zeros(shape = (5,5))\n",
    "trChange = np.zeros(shape = (5,5))\n",
    "\n",
    "diffSilent = np.zeros(shape = (25, nCnt))\n",
    "diffChange = np.zeros(shape = (25, nCnt))\n",
    "\n",
    "for p, table in enumerate(tables):\n",
    "    notes = table[table.ch == 0]\n",
    "    rest = False\n",
    "    for pi in range(1, len(notes)):\n",
    "        n_ = notes.iloc[pi - 1]\n",
    "        n = notes.iloc[pi]\n",
    "        td_ = n.t0 - n_.t1\n",
    "        fd_ = n.fingers[-1] - n_.fingers[-1]\n",
    "        pd_ = n.pos - n_.pos\n",
    "        if td_ >= 1 / 32: # 休符を挟まない\n",
    "            rest = True\n",
    "            continue\n",
    "        if not rest:\n",
    "            move = getMoveTypeByPIGNote(n, n_)\n",
    "            actions[p, move] += 1            \n",
    "            fi = n.fingers[-1] - 1\n",
    "            fi_ = n_.fingers[-1] - 1\n",
    "            if move != 0:\n",
    "                trSilent[fi_, fi] += 1\n",
    "                diffSilent[fi_ * 5 + fi, getDiff(n_.midi, n.midi)] += 1\n",
    "            else:\n",
    "                trChange[fi_, fi] += 1\n",
    "                diffChange[fi_ * 5 + fi, getDiff(n_.midi, n.midi)] += 1\n",
    "        rest = False\n"
   ]
  },
  {
   "cell_type": "code",
   "execution_count": null,
   "id": "21cfe188-b462-4b37-a593-54032711460e",
   "metadata": {
    "tags": []
   },
   "outputs": [],
   "source": [
    "dfa = pd.DataFrame(actions, columns=columns, index = names[0:len(tables)])\n",
    "dfa"
   ]
  },
  {
   "cell_type": "code",
   "execution_count": null,
   "id": "7bc62bdc-1d45-479a-8652-7742e44b511d",
   "metadata": {
    "tags": []
   },
   "outputs": [],
   "source": [
    "trProbSilent = np.apply_along_axis(lambda c: c / c.sum(), 1, trSilent)\n",
    "outProbSilent = np.apply_along_axis(lambda c: c / c.sum(), 1, diffSilent)\n",
    "trProbChange = np.apply_along_axis(lambda c: c / c.sum(), 1, trChange)\n",
    "outProbChange = np.apply_along_axis(lambda c: c / c.sum(), 1, diffChange)"
   ]
  },
  {
   "cell_type": "code",
   "execution_count": null,
   "id": "faa5c147-854c-49e5-b223-a96828ac5308",
   "metadata": {
    "tags": []
   },
   "outputs": [],
   "source": [
    "np.savetxt(\"./data/trProbSilent.txt\", trProbSilent)\n",
    "np.savetxt(\"./data/outProbSilent.txt\", outProbSilent)\n",
    "np.savetxt(\"./data/trProbChange.txt\", trProbChange)\n",
    "np.savetxt(\"./data/outProbChange.txt\", outProbChange)"
   ]
  },
  {
   "cell_type": "code",
   "execution_count": null,
   "id": "51e043dd-aa69-4ac6-83db-a929896be8e7",
   "metadata": {},
   "outputs": [],
   "source": [
    "sns.heatmap(outProbSilent)"
   ]
  },
  {
   "cell_type": "code",
   "execution_count": null,
   "id": "b3b204b5-1bad-4725-b0ba-03cea52152d7",
   "metadata": {},
   "outputs": [],
   "source": [
    "sns.heatmap(outProbChange)"
   ]
  },
  {
   "cell_type": "code",
   "execution_count": null,
   "id": "33df31ce-93e4-45c3-896b-00a760981b1f",
   "metadata": {},
   "outputs": [],
   "source": []
  }
 ],
 "metadata": {
  "kernelspec": {
   "display_name": "Python 3",
   "language": "python",
   "name": "python3"
  },
  "language_info": {
   "codemirror_mode": {
    "name": "ipython",
    "version": 3
   },
   "file_extension": ".py",
   "mimetype": "text/x-python",
   "name": "python",
   "nbconvert_exporter": "python",
   "pygments_lexer": "ipython3",
   "version": "3.7.10"
  }
 },
 "nbformat": 4,
 "nbformat_minor": 5
}
