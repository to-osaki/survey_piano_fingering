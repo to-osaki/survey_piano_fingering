{
 "cells": [
  {
   "cell_type": "code",
   "execution_count": null,
   "id": "d45d6dc7-6c52-4156-881a-46584a9d2af4",
   "metadata": {},
   "outputs": [],
   "source": [
    "import music21 as mu\n",
    "import pandas as pd\n",
    "import numpy as np\n",
    "from data_helper import *\n",
    "\n",
    "def count_match(notes, fingers):\n",
    "    \"\"\"\n",
    "    PIGデータと運指配列との一致数を返す\n",
    "    \"\"\"\n",
    "    match = 0\n",
    "    for i in range(len(notes)):\n",
    "        if notes.iloc[i].finger == fingers.iat[i]:\n",
    "            match += 1\n",
    "    return match\n",
    "\n",
    "def noteWithFingering(note, pig, finger):\n",
    "    note.articulations.append(mu.articulations.Fingering(finger))\n",
    "    if pig.finger != finger:\n",
    "        note.style.color = \"red\"\n",
    "        note.addLyric(pig._finger)\n",
    "\n",
    "def noteColoringByFingerMatches(note, fingers):\n",
    "    differ = (len(set(fingers)) - 1) / (len(fingers) - 1)\n",
    "    color = int((1 - pow(1 - differ, 2)) * 255)\n",
    "    red = \"{:02x}\".format(color)\n",
    "    note.style.color = f\"#{red}0000\"\n",
    "    \n",
    "def drawFingerings(stream, pig_notes, fingers):\n",
    "    appendPIGNotes(stream, pig_notes, lambda i, n, c: noteWithFingering(n, c, fingers.iat[i]))\n",
    "\n",
    "def drawMatches(stream, pig_notes, fingerZipped):\n",
    "    fingerlist = list(fingerZipped)\n",
    "    appendPIGNotes(stream, pig_notes, lambda i, n, c: noteColoringByFingerMatches(n, fingerlist[i]))"
   ]
  },
  {
   "cell_type": "code",
   "execution_count": null,
   "id": "4b2f2b82-8936-493d-87cf-897099c7cda4",
   "metadata": {
    "tags": []
   },
   "outputs": [],
   "source": [
    "#convert_fingering_to_PIG(\n",
    "#    './data/001-my_fingering.csv',\n",
    "#    './data/001-my_fingering_R.txt', \n",
    "#    './data/001-my_fingering_L.txt', \n",
    "#    \"./tmp/PianoFingeringDataset/FingeringFiles/001-1_fingering.txt\")\n",
    "#convert_fingering_to_PIG(\n",
    "#    './data/001-Czerny_fingering.csv',\n",
    "#    './data/001-Czerny_fingering_R.txt', \n",
    "#    './data/001-Czerny_fingering_L.txt', \n",
    "#    \"./tmp/PianoFingeringDataset/FingeringFiles/001-1_fingering.txt\")\n",
    "tables = [\n",
    "    read_PIG(\"./tmp/PianoFingeringDataset/FingeringFiles/001-1_fingering.txt\"),\n",
    "    read_PIG(\"./tmp/PianoFingeringDataset/FingeringFiles/001-2_fingering.txt\"),\n",
    "    read_PIG(\"./tmp/PianoFingeringDataset/FingeringFiles/001-5_fingering.txt\"),\n",
    "    read_PIG(\"./tmp/PianoFingeringDataset/FingeringFiles/001-8_fingering.txt\"),\n",
    "    read_PIG('./data/001-my_fingering.csv'),\n",
    "    read_PIG('./data/001-Czerny_fingering.csv')]\n",
    "\n",
    "fingersr = zip(*[table[table.ch == 0].finger for table in tables])\n",
    "fingersl = zip(*[table[table.ch == 1].finger for table in tables])"
   ]
  },
  {
   "cell_type": "code",
   "execution_count": null,
   "id": "4a78edcb-574d-4c09-8cc0-463707819f3f",
   "metadata": {},
   "outputs": [],
   "source": [
    "score = makeScore(tables[0])\n",
    "score.write('musicxml', './mxl/bach_invention1.xml')"
   ]
  },
  {
   "cell_type": "code",
   "execution_count": null,
   "id": "241716b7-abac-4fb1-93ac-90dfd9ce7e54",
   "metadata": {},
   "outputs": [],
   "source": [
    "czernyR = read_fingering('./data/001-Czerny_fingering_R.txt')\n",
    "czernyL = read_fingering('./data/001-Czerny_fingering_L.txt')\n",
    "\n",
    "score = mu.stream.Score()\n",
    "rights = tables[0][tables[0].ch == 0]\n",
    "pr = mu.stream.Part()\n",
    "drawMatches(pr, rights, zip(rights.finger, czernyR))\n",
    "score.insert(0, pr)\n",
    "#score.write('musicxml', './mxl/PIG_differs2.xml')"
   ]
  },
  {
   "cell_type": "code",
   "execution_count": null,
   "id": "6b6f680b-a8d8-43fe-a056-a1e11af1e072",
   "metadata": {
    "tags": []
   },
   "outputs": [],
   "source": [
    "def make_match_matrix(pig_array):\n",
    "    df = pd.DataFrame(columns = range(len(pig_array)))\n",
    "    pig_fingers = [table.finger for table in pig_array]\n",
    "    data_length = len(pig_fingers[0])\n",
    "    for i in range(len(pig_fingers)):\n",
    "        row = {}\n",
    "        for j in range(len(pig_fingers)):\n",
    "            fingerPair = zip(pig_fingers[i], pig_fingers[j]) # make pair\n",
    "            cnt = 0\n",
    "            for _, fs in enumerate(fingerPair):\n",
    "                if len(set(fs)) < len(fs):\n",
    "                    cnt += 1\n",
    "            row[j] = cnt / data_length #rate = \"{:.3f}\".format(cnt / data_length)\n",
    "        df = df.append(row, ignore_index = True)\n",
    "    return df\n",
    "\n",
    "df = make_match_matrix(tables)\n",
    "print(df)"
   ]
  },
  {
   "cell_type": "code",
   "execution_count": null,
   "id": "a539fcc3-eed1-4aaa-8018-3e79386f5d65",
   "metadata": {},
   "outputs": [],
   "source": []
  }
 ],
 "metadata": {
  "kernelspec": {
   "display_name": "Python 3",
   "language": "python",
   "name": "python3"
  },
  "language_info": {
   "codemirror_mode": {
    "name": "ipython",
    "version": 3
   },
   "file_extension": ".py",
   "mimetype": "text/x-python",
   "name": "python",
   "nbconvert_exporter": "python",
   "pygments_lexer": "ipython3",
   "version": "3.7.10"
  }
 },
 "nbformat": 4,
 "nbformat_minor": 5
}
