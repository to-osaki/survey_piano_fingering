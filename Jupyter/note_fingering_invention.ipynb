{
 "cells": [
  {
   "cell_type": "code",
   "execution_count": null,
   "id": "493b9459-3fdc-4093-abd0-76274762eb87",
   "metadata": {},
   "outputs": [],
   "source": [
    "%load_ext autoreload\n",
    "%autoreload 2\n",
    "\n",
    "import music21 as mu\n",
    "import pandas as pd\n",
    "import numpy as np\n",
    "import seaborn as sns\n",
    "import matplotlib.pyplot as plt\n",
    "import itertools\n",
    "from data_helper import *\n",
    "from music_helper import *\n",
    "\n",
    "sns.set(font='Yu Gothic')"
   ]
  },
  {
   "cell_type": "code",
   "execution_count": 113,
   "id": "8f270bc0-f1f3-4c3e-b6fb-32b6c47e9d00",
   "metadata": {
    "tags": []
   },
   "outputs": [],
   "source": [
    "dataId = 2\n",
    "pathes = [\n",
    "    f'./tmp/Result_FHMM1/{dataId:03d}-1_fingering.txt',f'./tmp/Result_FHMM2/{dataId:03d}-1_fingering.txt',\n",
    "    f'./tmp/Result_FHMM3/{dataId:03d}-1_fingering.txt',\n",
    "    f\"./tmp/PianoFingeringDataset/FingeringFiles/{dataId:03d}-1_fingering.txt\",\n",
    "    f\"./tmp/PianoFingeringDataset/FingeringFiles/{dataId:03d}-2_fingering.txt\",\n",
    "    f\"./tmp/PianoFingeringDataset/FingeringFiles/{dataId:03d}-5_fingering.txt\",\n",
    "    f\"./tmp/PianoFingeringDataset/FingeringFiles/{dataId:03d}-8_fingering.txt\",\n",
    "    f'./data/{dataId:03d}-Czerny_fingering.csv',\n",
    "    f'./data/{dataId:03d}-ZenonTakagi_fingering.csv',f'./data/{dataId:03d}-ZenonIchida_fingering.csv',\n",
    "]\n",
    "players = [\n",
    "    \"FHMM1st\",\"FHMM2nd\",\n",
    "    \"FHMM3rd\",\n",
    "    \"PIG_YI\",\n",
    "    \"PIG_ES\",\n",
    "    \"PIG_HI\",\n",
    "    \"PIG_NH\",\n",
    "    \"ツェルニー版\",\n",
    "    \"全音高木版\",\"全音市田版\",\n",
    "]\n",
    "filenames = [f\"{dataId:03d}-{name}\" for name in players]\n",
    "tables = [read_PIG(path) for path in pathes]"
   ]
  },
  {
   "cell_type": "code",
   "execution_count": 114,
   "id": "1f8323b6-67c7-410f-a588-0db21437a777",
   "metadata": {},
   "outputs": [
    {
     "data": {
      "text/plain": [
       "array([[  3., 113.,  14.,   9., 447.],\n",
       "       [  3., 112.,  12.,  12., 447.],\n",
       "       [  3., 113.,  14.,  13., 443.],\n",
       "       [ 21., 115.,  16.,  11., 423.],\n",
       "       [ 51.,  76.,   5.,  11., 443.],\n",
       "       [ 27., 115.,   7.,   8., 429.],\n",
       "       [ 30., 113.,   7.,  11., 425.],\n",
       "       [ 49., 123.,   4.,   4., 406.],\n",
       "       [ 56., 112.,   6.,   3., 409.],\n",
       "       [ 46., 110.,   4.,   8., 418.]])"
      ]
     },
     "execution_count": 114,
     "metadata": {},
     "output_type": "execute_result"
    }
   ],
   "source": [
    "columns = [\"寄せ\", \"拡げ\", \"潜り\", \"超え\", \"静止\"]\n",
    "playerNum = len(players)\n",
    "noteNum = len(tables[0])\n",
    "total = np.zeros(shape = (playerNum, len(columns)))\n",
    "aTable = np.zeros(shape = (playerNum, noteNum))\n",
    "for playerId, name in enumerate(players):\n",
    "    table = tables[playerId]\n",
    "    aIdx = 0\n",
    "    aList = np.zeros(len(table))\n",
    "    for ch in [0, 1]:\n",
    "        actions = np.zeros(len(columns))\n",
    "        notes = table[table.ch == ch]\n",
    "        rest = False\n",
    "        for pi in range(1, len(notes)):\n",
    "            n = notes.iloc[pi]\n",
    "            n_ = notes.iloc[pi - 1]\n",
    "            td_ = n.t0 - n_.t1\n",
    "            if td_ >= 1 / 32: # 休符を挟まない\n",
    "                rest = True\n",
    "                continue\n",
    "            if not rest:\n",
    "                move = getMoveTypeByPIGNote(n, n_, True)\n",
    "                actions[move] += 1\n",
    "                aList[aIdx] = move\n",
    "            rest = False\n",
    "            aIdx += 1\n",
    "        total[playerId] += actions\n",
    "    #aTable[playerId] = aList\n",
    "total"
   ]
  },
  {
   "cell_type": "code",
   "execution_count": null,
   "id": "0b91f410-dffe-4b64-8530-e7f5d6a0ed4a",
   "metadata": {},
   "outputs": [],
   "source": [
    "match = np.zeros(shape = (playerNum, playerNum))\n",
    "for i, j in itertools.product(range(playerNum), range(playerNum)):\n",
    "    match[i, j] = np.count_nonzero(aTable[i] == aTable[j])\n",
    "\n",
    "df = pd.DataFrame(data = match / noteNum, columns = players, index = players)\n",
    "sns.heatmap(df, cmap=plt.get_cmap(\"inferno\"), vmin = 0.75, vmax = 1.0, annot = True)"
   ]
  },
  {
   "cell_type": "code",
   "execution_count": null,
   "id": "38573f68-c778-4f03-bd2a-62fb7178bb7c",
   "metadata": {},
   "outputs": [],
   "source": [
    "from sklearn import manifold\n",
    "mds = manifold.MDS(n_components=2, dissimilarity=\"precomputed\", random_state = 1)\n",
    "\n",
    "dfp = 1 - df\n",
    "pos = mds.fit_transform(dfp)\n",
    "\n",
    "plt.scatter(pos[:, 0], pos[:, 1], marker = 'o')\n",
    "for i, xy in enumerate(zip(pos[:, 0], pos[:, 1])):\n",
    "    plt.text(xy[0], xy[1] + 0.01, df.columns[i])"
   ]
  },
  {
   "cell_type": "code",
   "execution_count": 115,
   "id": "ca33f40f-e6a9-4bb5-9682-c778e33100e3",
   "metadata": {},
   "outputs": [
    {
     "data": {
      "text/html": [
       "<div>\n",
       "<style scoped>\n",
       "    .dataframe tbody tr th:only-of-type {\n",
       "        vertical-align: middle;\n",
       "    }\n",
       "\n",
       "    .dataframe tbody tr th {\n",
       "        vertical-align: top;\n",
       "    }\n",
       "\n",
       "    .dataframe thead th {\n",
       "        text-align: right;\n",
       "    }\n",
       "</style>\n",
       "<table border=\"1\" class=\"dataframe\">\n",
       "  <thead>\n",
       "    <tr style=\"text-align: right;\">\n",
       "      <th></th>\n",
       "      <th>寄せ</th>\n",
       "      <th>拡げ</th>\n",
       "      <th>潜り</th>\n",
       "      <th>超え</th>\n",
       "      <th>合計</th>\n",
       "    </tr>\n",
       "  </thead>\n",
       "  <tbody>\n",
       "    <tr>\n",
       "      <th>FHMM1st</th>\n",
       "      <td>3</td>\n",
       "      <td>113</td>\n",
       "      <td>14</td>\n",
       "      <td>9</td>\n",
       "      <td>139</td>\n",
       "    </tr>\n",
       "    <tr>\n",
       "      <th>FHMM2nd</th>\n",
       "      <td>3</td>\n",
       "      <td>112</td>\n",
       "      <td>12</td>\n",
       "      <td>12</td>\n",
       "      <td>139</td>\n",
       "    </tr>\n",
       "    <tr>\n",
       "      <th>FHMM3rd</th>\n",
       "      <td>3</td>\n",
       "      <td>113</td>\n",
       "      <td>14</td>\n",
       "      <td>13</td>\n",
       "      <td>143</td>\n",
       "    </tr>\n",
       "    <tr>\n",
       "      <th>PIG_YI</th>\n",
       "      <td>21</td>\n",
       "      <td>115</td>\n",
       "      <td>16</td>\n",
       "      <td>11</td>\n",
       "      <td>163</td>\n",
       "    </tr>\n",
       "    <tr>\n",
       "      <th>PIG_ES</th>\n",
       "      <td>51</td>\n",
       "      <td>76</td>\n",
       "      <td>5</td>\n",
       "      <td>11</td>\n",
       "      <td>143</td>\n",
       "    </tr>\n",
       "    <tr>\n",
       "      <th>PIG_HI</th>\n",
       "      <td>27</td>\n",
       "      <td>115</td>\n",
       "      <td>7</td>\n",
       "      <td>8</td>\n",
       "      <td>157</td>\n",
       "    </tr>\n",
       "    <tr>\n",
       "      <th>PIG_NH</th>\n",
       "      <td>30</td>\n",
       "      <td>113</td>\n",
       "      <td>7</td>\n",
       "      <td>11</td>\n",
       "      <td>161</td>\n",
       "    </tr>\n",
       "    <tr>\n",
       "      <th>ツェルニー版</th>\n",
       "      <td>49</td>\n",
       "      <td>123</td>\n",
       "      <td>4</td>\n",
       "      <td>4</td>\n",
       "      <td>180</td>\n",
       "    </tr>\n",
       "    <tr>\n",
       "      <th>全音高木版</th>\n",
       "      <td>56</td>\n",
       "      <td>112</td>\n",
       "      <td>6</td>\n",
       "      <td>3</td>\n",
       "      <td>177</td>\n",
       "    </tr>\n",
       "    <tr>\n",
       "      <th>全音市田版</th>\n",
       "      <td>46</td>\n",
       "      <td>110</td>\n",
       "      <td>4</td>\n",
       "      <td>8</td>\n",
       "      <td>168</td>\n",
       "    </tr>\n",
       "  </tbody>\n",
       "</table>\n",
       "</div>"
      ],
      "text/plain": [
       "         寄せ   拡げ  潜り  超え   合計\n",
       "FHMM1st   3  113  14   9  139\n",
       "FHMM2nd   3  112  12  12  139\n",
       "FHMM3rd   3  113  14  13  143\n",
       "PIG_YI   21  115  16  11  163\n",
       "PIG_ES   51   76   5  11  143\n",
       "PIG_HI   27  115   7   8  157\n",
       "PIG_NH   30  113   7  11  161\n",
       "ツェルニー版   49  123   4   4  180\n",
       "全音高木版    56  112   6   3  177\n",
       "全音市田版    46  110   4   8  168"
      ]
     },
     "execution_count": 115,
     "metadata": {},
     "output_type": "execute_result"
    }
   ],
   "source": [
    "dfa = pd.DataFrame(total, columns=columns, index=players)\n",
    "dfa = dfa.drop('静止', axis = 1)\n",
    "dfa['合計'] = dfa[columns[0:4]].sum(axis = 1)\n",
    "dfa.applymap(lambda n: int(n))"
   ]
  },
  {
   "cell_type": "code",
   "execution_count": 160,
   "id": "769f4a2d-f650-4dc3-8299-4b3e9d9e77e8",
   "metadata": {},
   "outputs": [
    {
     "data": {
      "text/plain": [
       "133.0"
      ]
     },
     "execution_count": 160,
     "metadata": {},
     "output_type": "execute_result"
    }
   ],
   "source": [
    "def appendPIGNotesWithArmMove(pig_notes, ch):\n",
    "    pig_notes = pig_notes[pig_notes.ch == ch]\n",
    "    moves = np.zeros(len(pig_notes))\n",
    "    sign = np.sign(ch + 0.5)\n",
    "    v_ = 0\n",
    "    for pi in range(len(pig_notes)):\n",
    "        n = pig_notes.iloc[pi]\n",
    "        if pi > 0:\n",
    "            n_ = pig_notes.iloc[pi - 1]\n",
    "            move = getMoveType(n.fingers, n_.fingers, n.pos, n_.pos)\n",
    "            pd = n.pos - n_.pos\n",
    "            fd = (n.fingers[0] - n_.fingers[-1])\n",
    "            #v = pd - fd\n",
    "            #if (v > 0 and v_ < 0) or (v < 0 and v_ > 0):\n",
    "            #    moves[pi] = v\n",
    "            #if v != 0:\n",
    "            #    v_ = v\n",
    "            if move == 1:\n",
    "                moves[pi] = abs(pd) - abs(fd)\n",
    "    return moves\n",
    "\n",
    "#for i in range(len(pathes)):\n",
    "moves = appendPIGNotesWithArmMove(tables[7], 1)\n",
    "moves.sum()"
   ]
  },
  {
   "cell_type": "code",
   "execution_count": 161,
   "id": "fbc99ebb-4d07-466d-91b9-0a3495868dd0",
   "metadata": {},
   "outputs": [
    {
     "data": {
      "text/plain": [
       "[<matplotlib.lines.Line2D at 0x113bbad8e08>]"
      ]
     },
     "execution_count": 161,
     "metadata": {},
     "output_type": "execute_result"
    },
    {
     "data": {
      "image/png": "[encoded data removed]",
      "text/plain": [
       "<Figure size 432x288 with 1 Axes>"
      ]
     },
     "metadata": {
      "image/png": {
       "height": 251,
       "width": 373
      }
     },
     "output_type": "display_data"
    }
   ],
   "source": [
    "plt.plot(moves)"
   ]
  },
  {
   "cell_type": "code",
   "execution_count": null,
   "id": "3d0cfa73-da3d-4685-9eef-0391126c0fe8",
   "metadata": {},
   "outputs": [],
   "source": []
  }
 ],
 "metadata": {
  "kernelspec": {
   "display_name": "Python 3",
   "language": "python",
   "name": "python3"
  },
  "language_info": {
   "codemirror_mode": {
    "name": "ipython",
    "version": 3
   },
   "file_extension": ".py",
   "mimetype": "text/x-python",
   "name": "python",
   "nbconvert_exporter": "python",
   "pygments_lexer": "ipython3",
   "version": "3.7.10"
  }
 },
 "nbformat": 4,
 "nbformat_minor": 5
}
