{
 "cells": [
  {
   "cell_type": "code",
   "execution_count": null,
   "id": "096332a9-6fef-482a-b07d-3d064f19e350",
   "metadata": {},
   "outputs": [],
   "source": [
    "%matplotlib inline\n",
    "import music21\n",
    "s = music21.converter.parse('./mxl/cmaj.mxl')"
   ]
  },
  {
   "cell_type": "code",
   "execution_count": null,
   "id": "ef53ace4-73b9-47dc-88bd-b7645de69759",
   "metadata": {},
   "outputs": [],
   "source": [
    "[i for i in s]"
   ]
  },
  {
   "cell_type": "code",
   "execution_count": null,
   "id": "76565660-e7c9-45fb-8526-96ec5997c2bf",
   "metadata": {},
   "outputs": [],
   "source": [
    "s[3].plot()"
   ]
  },
  {
   "cell_type": "code",
   "execution_count": null,
   "id": "0077f6c5-2cad-4c9f-99e4-3d02a7edc3dc",
   "metadata": {},
   "outputs": [],
   "source": [
    "# https://stackoverflow.com/questions/36647054/music21-getting-all-notes-with-durations\n",
    "for n in s.flat.notes:\n",
    "    print(f\"Note: {n.pitch.name}, {n.pitch.octave}, {n.duration.quarterLength}\")"
   ]
  },
  {
   "cell_type": "code",
   "execution_count": null,
   "id": "14bd55df-69ec-4fdd-acaa-2a55d54ac350",
   "metadata": {},
   "outputs": [],
   "source": [
    "# https://xef.hatenadiary.org/entry/20121027/p2\n",
    "notes = [n.pitch.midi for n in s[3][1].notes]\n",
    "notes"
   ]
  },
  {
   "cell_type": "code",
   "execution_count": null,
   "id": "47d51da3-201b-459f-ab2b-865758c80004",
   "metadata": {},
   "outputs": [],
   "source": [
    "s1 = music21.stream.Stream()\n",
    "s1.append(music21.note.Note('G4', type='quarter'))\n",
    "s1[-1].articulations.append(music21.articulations.Fingering(5))\n",
    "s1.append(music21.note.Note('D4', type='quarter'))\n",
    "s1[-1].articulations.append(music21.articulations.Fingering(2))\n",
    "s1.append(music21.note.Note('E4', type='quarter'))\n",
    "s1[-1].articulations.append(music21.articulations.Fingering(3))\n",
    "s1.append(music21.note.Note('F4', type='quarter'))\n",
    "s1[-1].articulations.append(music21.articulations.Fingering(4))\n",
    "s1.append(music21.note.Note('D4', type='quarter'))\n",
    "s1[-1].articulations.append(music21.articulations.Fingering(2))\n",
    "s1.append(music21.note.Note('E4', type='quarter'))\n",
    "s1[-1].articulations.append(music21.articulations.Fingering(3))\n",
    "s1.append(music21.note.Note('C4', type='quarter'))\n",
    "s1[-1].articulations.append(music21.articulations.Fingering(1))\n",
    "s1.append(music21.note.Note('G4', type='quarter'))\n",
    "s1[-1].articulations.append(music21.articulations.Fingering(3))\n",
    "s1.append(music21.note.Note('C5', type='quarter'))\n",
    "s1[-1].articulations.append(music21.articulations.Fingering(5))\n",
    "s1.append(music21.note.Note('E4', type='quarter'))\n",
    "s1[-1].articulations.append(music21.articulations.Fingering(3))\n",
    "s1.append(music21.note.Note('D4', type='quarter'))\n",
    "s1[-1].articulations.append(music21.articulations.Fingering(2))\n",
    "s1.append(music21.note.Note('C4', type='quarter'))\n",
    "s1[-1].articulations.append(music21.articulations.Fingering(1))\n",
    "s1.write('musicxml', './mxl/note_example1.xml')\n",
    "s1.show()"
   ]
  },
  {
   "cell_type": "code",
   "execution_count": null,
   "id": "b10ed599-1009-41c8-b4fc-a8f125d88fc6",
   "metadata": {},
   "outputs": [],
   "source": [
    "s = music21.converter.parse(\"tinyNotation: 4/4 c16 d e f c16 d e f c16 d e f c16 d e f d4 e c g4 c'4 c'16 b c' b c'4\")\n",
    "s.show()"
   ]
  },
  {
   "cell_type": "code",
   "execution_count": null,
   "id": "b9deeb37-240f-443c-9ea6-37d51c56ba3e",
   "metadata": {},
   "outputs": [],
   "source": [
    "s = music21.converter.parse(\"tinyNotation: 4/4 e'16_1 a'_4 g'_3 f'_2 | e'_1 g'_3 f'_2 a'_4 | g'_3 f'_1 e'_3 d'_2 | c'_1 e'_3 d'_2 f'_4 \")\n",
    "s.show()"
   ]
  }
 ],
 "metadata": {
  "kernelspec": {
   "display_name": "Python 3",
   "language": "python",
   "name": "python3"
  },
  "language_info": {
   "codemirror_mode": {
    "name": "ipython",
    "version": 3
   },
   "file_extension": ".py",
   "mimetype": "text/x-python",
   "name": "python",
   "nbconvert_exporter": "python",
   "pygments_lexer": "ipython3",
   "version": "3.7.10"
  }
 },
 "nbformat": 4,
 "nbformat_minor": 5
}
