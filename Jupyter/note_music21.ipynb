{
 "cells": [
  {
   "cell_type": "code",
   "execution_count": null,
   "id": "096332a9-6fef-482a-b07d-3d064f19e350",
   "metadata": {},
   "outputs": [],
   "source": [
    "%matplotlib inline\n",
    "import music21\n",
    "s = music21.converter.parse('./mxl/cmaj.mxl')"
   ]
  },
  {
   "cell_type": "code",
   "execution_count": null,
   "id": "ef53ace4-73b9-47dc-88bd-b7645de69759",
   "metadata": {},
   "outputs": [],
   "source": [
    "[i for i in s]"
   ]
  },
  {
   "cell_type": "code",
   "execution_count": null,
   "id": "76565660-e7c9-45fb-8526-96ec5997c2bf",
   "metadata": {},
   "outputs": [],
   "source": [
    "s[3].plot()"
   ]
  },
  {
   "cell_type": "code",
   "execution_count": null,
   "id": "0077f6c5-2cad-4c9f-99e4-3d02a7edc3dc",
   "metadata": {},
   "outputs": [],
   "source": [
    "# https://stackoverflow.com/questions/36647054/music21-getting-all-notes-with-durations\n",
    "for n in s.flat.notes:\n",
    "    print(f\"Note: {n.pitch.name}, {n.pitch.octave}, {n.duration.quarterLength}\")"
   ]
  },
  {
   "cell_type": "code",
   "execution_count": null,
   "id": "14bd55df-69ec-4fdd-acaa-2a55d54ac350",
   "metadata": {},
   "outputs": [],
   "source": [
    "# https://xef.hatenadiary.org/entry/20121027/p2\n",
    "notes = [n.pitch.midi for n in s[3][1].notes]\n",
    "notes"
   ]
  },
  {
   "cell_type": "code",
   "execution_count": null,
   "id": "47d51da3-201b-459f-ab2b-865758c80004",
   "metadata": {},
   "outputs": [],
   "source": [
    "s1 = music21.stream.Stream()\n",
    "s1.append(music21.note.Note('C5', type='16th'))\n",
    "s1[-1].articulations.append(music21.articulations.Fingering(4))\n",
    "s1.append(music21.note.Note('B-4', type='16th'))\n",
    "s1[-1].articulations.append(music21.articulations.Fingering(3))\n",
    "s1.append(music21.note.Note('A4', type='16th'))\n",
    "s1[-1].articulations.append(music21.articulations.Fingering(2))\n",
    "s1.append(music21.note.Note('G4', type='16th'))\n",
    "s1[-1].articulations.append(music21.articulations.Fingering(1))\n",
    "s1.append(music21.note.Note('F4', type='16th'))\n",
    "s1[-1].articulations.append(music21.articulations.Fingering(2))\n",
    "s1.append(music21.note.Note('A4', type='16th'))\n",
    "s1[-1].articulations.append(music21.articulations.Fingering(4))\n",
    "s1.append(music21.note.Note('G4', type='16th'))\n",
    "s1[-1].articulations.append(music21.articulations.Fingering(1))\n",
    "s1.append(music21.note.Note('B4', type='16th'))\n",
    "s1[-1].articulations.append(music21.articulations.Fingering(4))\n",
    "s1.append(music21.note.Note('A4', type='16th'))\n",
    "s1[-1].articulations.append(music21.articulations.Fingering(3))\n",
    "s1.append(music21.note.Note('B4', type='16th'))\n",
    "s1[-1].articulations.append(music21.articulations.Fingering(4))\n",
    "s1.append(music21.note.Note('C5', type='16th'))\n",
    "s1[-1].articulations.append(music21.articulations.Fingering(5))\n",
    "s1.append(music21.note.Note('E4', type='16th'))\n",
    "s1[-1].articulations.append(music21.articulations.Fingering(2))\n",
    "s1.append(music21.note.Note('D4', type='16th'))\n",
    "s1[-1].articulations.append(music21.articulations.Fingering(1))\n",
    "s1.append(music21.note.Note('C5', type='16th'))\n",
    "s1[-1].articulations.append(music21.articulations.Fingering(5))\n",
    "s1.append(music21.note.Note('F4', type='16th'))\n",
    "s1[-1].articulations.append(music21.articulations.Fingering(2))\n",
    "s1.append(music21.note.Note('B4', type='16th'))\n",
    "s1[-1].articulations.append(music21.articulations.Fingering(4))\n",
    "#s1.write('musicxml', './mxl/note_example1.xml')\n",
    "s1.show()"
   ]
  },
  {
   "cell_type": "code",
   "execution_count": null,
   "id": "b9deeb37-240f-443c-9ea6-37d51c56ba3e",
   "metadata": {},
   "outputs": [],
   "source": [
    "s = music21.converter.parse(\"tinyNotation: 4/4 e'16_1 a'_4 g'_3 f'_2 | e'_1 g'_3 f'_2 a'_4 | g'_3 f'_1 e'_3 d'_2 | c'_1 e'_3 d'_2 f'_4 \")\n",
    "s.show()"
   ]
  },
  {
   "cell_type": "code",
   "execution_count": null,
   "id": "edb2dc5f-3319-4ebc-a2d0-88da16949e62",
   "metadata": {},
   "outputs": [],
   "source": [
    "s = music21.converter.parse(\"tinyNotation: 4/4 r16 c_1 d_2 e_3 | f_4 d_2 e_3 c_1 | g8_5 c'_4 b32_3 a32_2 b16_3 c'8_4 \")\n",
    "m = s.getElementsByClass('Measure')[0]\n",
    "sl1 = music21.spanner.Slur(m.notes[0:8])\n",
    "sl2 = music21.spanner.Slur(m.notes[8:])\n",
    "m.insert(0, sl1)\n",
    "m.insert(0, sl2)\n",
    "s.show()"
   ]
  },
  {
   "cell_type": "code",
   "execution_count": null,
   "id": "157a2e6c-f8c1-43a7-9892-c95dc24c4127",
   "metadata": {},
   "outputs": [],
   "source": [
    "s = music21.converter.parse(\"tinyNotation: 3/4  r8 f8_1 a_2 f_1 c'_3 f_1 | f'8_5 e'16_3 d'_2 c'_1 d'_4 c'_3 b_2 a_1 b_4 a_3 g_2\")\n",
    "m = s.getElementsByClass('Measure')[0]\n",
    "m.notes[1].style.color = \"red\"\n",
    "m.notes[3].style.color = \"red\"\n",
    "m = s.getElementsByClass('Measure')[1]\n",
    "m.notes[1].style.color = \"blue\"\n",
    "m.notes[4].style.color = \"blue\"\n",
    "m.notes[8].style.color = \"blue\"\n",
    "s.show()"
   ]
  },
  {
   "cell_type": "code",
   "execution_count": null,
   "id": "618979b7-825e-4e69-a6e0-ee77e12bc91e",
   "metadata": {},
   "outputs": [],
   "source": [
    "s = music21.converter.parse(\"tinyNotation: 4/4 \"\n",
    "                            \"f'16_2 g'_1 a'_2 b'_3 c''_4 a'_2 b'_3 g'_1 c''8_5 g'_2 f'32_1 e'_2 f'_3 e'_2 d'16_1 c'_3 \"\n",
    "                            \"c'16_5 b_4 a_3 g_2 f16_1 a_3 g_2 b_4 a16_3 b_4 c'_5 e_2 d16_1 c'_5 f_2 b_4 \")\n",
    "m = s.getElementsByClass('Measure')[0]\n",
    "m.notes[1].style.color = \"green\"\n",
    "m.notes[11].style.color = \"green\"\n",
    "m.notes[15].style.color = \"green\"\n",
    "m.notes[8].style.color = \"blue\"\n",
    "m = s.getElementsByClass('Measure')[1]\n",
    "m.notes[0].style.color = \"blue\"\n",
    "m.notes[15].style.color = \"red\"\n",
    "s.show()"
   ]
  },
  {
   "cell_type": "code",
   "execution_count": null,
   "id": "7333baf9-1e76-4922-b902-6f5d86d92981",
   "metadata": {},
   "outputs": [],
   "source": []
  }
 ],
 "metadata": {
  "kernelspec": {
   "display_name": "Python 3",
   "language": "python",
   "name": "python3"
  },
  "language_info": {
   "codemirror_mode": {
    "name": "ipython",
    "version": 3
   },
   "file_extension": ".py",
   "mimetype": "text/x-python",
   "name": "python",
   "nbconvert_exporter": "python",
   "pygments_lexer": "ipython3",
   "version": "3.7.10"
  }
 },
 "nbformat": 4,
 "nbformat_minor": 5
}
