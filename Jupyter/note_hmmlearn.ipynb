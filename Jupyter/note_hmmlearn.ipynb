{
 "cells": [
  {
   "cell_type": "code",
   "execution_count": null,
   "id": "b1848c8d-dcb9-4ada-9389-ee8da8d30c6e",
   "metadata": {},
   "outputs": [],
   "source": [
    "# https://sites.google.com/site/ryunosukehm/study/ml-with-python/impact-ss2017/hmm_toy_example\n",
    "# https://www.kabuku.co.jp/developers/hmm\n",
    "# http://keik-117.hatenablog.com/entry/2016/07/05/213903\n",
    "import numpy as np\n",
    "from hmmlearn import hmm"
   ]
  },
  {
   "cell_type": "code",
   "execution_count": null,
   "id": "7c377c99-9ac0-4e20-a3d4-30f50106d296",
   "metadata": {},
   "outputs": [],
   "source": [
    "# https://hmmlearn.readthedocs.io/en/latest/api.html#multinomialhmm\n",
    "# 隠れた状態は指番号 観測できるのは音符列\n",
    "model = hmm.MultinomialHMM(n_components=5)\n",
    "\n",
    "model.startprob_ = np.array([0.2, 0.2, 0.2, 0.2, 0.2])\n",
    "# ある指番号から指番号への遷移確率\n",
    "model.transmat_ = np.array([\n",
    "    [0.00, 0.50, 0.40, 0.05, 0.05],\n",
    "    [0.30, 0.00, 0.60, 0.05, 0.05],\n",
    "    [0.15, 0.50, 0.00, 0.30, 0.05],\n",
    "    [0.15, 0.10, 0.50, 0.00, 0.25],\n",
    "    [0.20, 0.05, 0.05, 0.70, 0.00]])\n",
    "# 出力を単純化 上行 = 2, 下行 = 1\n",
    "model.emissionprob_ = np.array([\n",
    "    [0.00, 0.20, 0.80],\n",
    "    [0.00, 0.40, 0.60],\n",
    "    [0.00, 0.60, 0.40],\n",
    "    [0.00, 0.75, 0.25],\n",
    "    [0.00, 0.90, 0.10]])"
   ]
  },
  {
   "cell_type": "code",
   "execution_count": null,
   "id": "a3cc9549-f50e-438c-972a-dacb0992dcb1",
   "metadata": {},
   "outputs": [],
   "source": [
    "X, Z = model.sample(10)\n",
    "Z + 1"
   ]
  },
  {
   "cell_type": "code",
   "execution_count": null,
   "id": "5ec0a003-4eda-47e8-af93-75fb0ba028d1",
   "metadata": {},
   "outputs": [],
   "source": [
    "model.predict(np.array([\n",
    "    [2],  # C -> D\n",
    "    [2],  # D\n",
    "    [2],  # E\n",
    "    [1],  # F\n",
    "    [2],  # D\n",
    "    [1],  # E\n",
    "    [2]   # C\n",
    "])) + 1"
   ]
  },
  {
   "cell_type": "code",
   "execution_count": null,
   "id": "d34f41db-05e0-4f9a-9948-4c4776ca3b11",
   "metadata": {},
   "outputs": [],
   "source": [
    "import music21\n",
    "s = music21.converter.parse('./mxl/note_example.xml')\n",
    "notes = s.flat.notes\n",
    "midies = [note.pitch.midi for note in notes]\n",
    "differs = [midies[i + 1] - midies[i] for i in range(len(midies) - 1)]\n",
    "outputs = [2 if d > 0 else 1 for d in differs]\n",
    "outputs.append(1)\n",
    "outputs"
   ]
  },
  {
   "cell_type": "code",
   "execution_count": null,
   "id": "4a697bfb-5f6d-4cf7-961f-a3915794541a",
   "metadata": {},
   "outputs": [],
   "source": [
    "model.predict(np.array(outputs).reshape(len(outputs), 1)) + 1"
   ]
  },
  {
   "cell_type": "code",
   "execution_count": null,
   "id": "083b98ff-a325-4cae-995c-0c70993510e6",
   "metadata": {},
   "outputs": [],
   "source": []
  },
  {
   "cell_type": "code",
   "execution_count": null,
   "id": "16a027e9-1a17-4f03-91f2-a8eaac6bbca4",
   "metadata": {},
   "outputs": [],
   "source": []
  }
 ],
 "metadata": {
  "kernelspec": {
   "display_name": "Python 3",
   "language": "python",
   "name": "python3"
  },
  "language_info": {
   "codemirror_mode": {
    "name": "ipython",
    "version": 3
   },
   "file_extension": ".py",
   "mimetype": "text/x-python",
   "name": "python",
   "nbconvert_exporter": "python",
   "pygments_lexer": "ipython3",
   "version": "3.7.10"
  }
 },
 "nbformat": 4,
 "nbformat_minor": 5
}
